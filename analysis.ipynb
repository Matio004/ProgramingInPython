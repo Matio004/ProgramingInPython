{
 "cells": [
  {
   "cell_type": "code",
   "id": "initial_id",
   "metadata": {
    "collapsed": true,
    "ExecuteTime": {
     "end_time": "2025-10-22T09:33:02.637813Z",
     "start_time": "2025-10-22T09:33:02.632576Z"
    }
   },
   "source": [
    "import matplotlib.pyplot as plt\n",
    "import pandas as pd\n",
    "import seaborn as sns"
   ],
   "outputs": [],
   "execution_count": 39
  },
  {
   "metadata": {
    "ExecuteTime": {
     "end_time": "2025-10-22T09:33:02.674140Z",
     "start_time": "2025-10-22T09:33:02.658851Z"
    }
   },
   "cell_type": "code",
   "source": [
    "data = pd.read_csv('./data.csv', sep=',', names=[\n",
    "    'sex', 'length', 'diameter', 'height',\n",
    "    'whole weight', 'shucked weight', 'viscera weight', 'shell weight',\n",
    "    'rings'\n",
    "])\n",
    "data['sex'] = data['sex'].map({'M': 'Male', 'F': 'Female', 'I': 'Infant'});"
   ],
   "id": "3da7ffd5e71501a1",
   "outputs": [],
   "execution_count": 40
  },
  {
   "metadata": {},
   "cell_type": "markdown",
   "source": "1.",
   "id": "773c19339a4d2427"
  },
  {
   "metadata": {
    "ExecuteTime": {
     "end_time": "2025-10-22T09:33:02.704226Z",
     "start_time": "2025-10-22T09:33:02.689418Z"
    }
   },
   "cell_type": "code",
   "source": "pd.DataFrame({'count': data.value_counts('sex'), '%': (data.value_counts('sex', normalize=True) * 100).round(2)})",
   "id": "f13c9cf4b40a03d1",
   "outputs": [
    {
     "data": {
      "text/plain": [
       "        count      %\n",
       "sex                 \n",
       "Male     1528  36.58\n",
       "Infant   1342  32.13\n",
       "Female   1307  31.29"
      ],
      "text/html": [
       "<div>\n",
       "<style scoped>\n",
       "    .dataframe tbody tr th:only-of-type {\n",
       "        vertical-align: middle;\n",
       "    }\n",
       "\n",
       "    .dataframe tbody tr th {\n",
       "        vertical-align: top;\n",
       "    }\n",
       "\n",
       "    .dataframe thead th {\n",
       "        text-align: right;\n",
       "    }\n",
       "</style>\n",
       "<table border=\"1\" class=\"dataframe\">\n",
       "  <thead>\n",
       "    <tr style=\"text-align: right;\">\n",
       "      <th></th>\n",
       "      <th>count</th>\n",
       "      <th>%</th>\n",
       "    </tr>\n",
       "    <tr>\n",
       "      <th>sex</th>\n",
       "      <th></th>\n",
       "      <th></th>\n",
       "    </tr>\n",
       "  </thead>\n",
       "  <tbody>\n",
       "    <tr>\n",
       "      <th>Male</th>\n",
       "      <td>1528</td>\n",
       "      <td>36.58</td>\n",
       "    </tr>\n",
       "    <tr>\n",
       "      <th>Infant</th>\n",
       "      <td>1342</td>\n",
       "      <td>32.13</td>\n",
       "    </tr>\n",
       "    <tr>\n",
       "      <th>Female</th>\n",
       "      <td>1307</td>\n",
       "      <td>31.29</td>\n",
       "    </tr>\n",
       "  </tbody>\n",
       "</table>\n",
       "</div>"
      ]
     },
     "execution_count": 41,
     "metadata": {},
     "output_type": "execute_result"
    }
   ],
   "execution_count": 41
  },
  {
   "metadata": {},
   "cell_type": "markdown",
   "source": "2.",
   "id": "3e99e7e1d60e04a"
  },
  {
   "metadata": {
    "ExecuteTime": {
     "end_time": "2025-10-22T09:33:02.812645Z",
     "start_time": "2025-10-22T09:33:02.781627Z"
    }
   },
   "cell_type": "code",
   "source": "data.describe().T[['mean', 'std', 'min', '25%', '50%', '75%', 'max']]",
   "id": "14271b69c397254a",
   "outputs": [
    {
     "data": {
      "text/plain": [
       "                    mean       std     min     25%     50%     75%      max\n",
       "length          0.523992  0.120093  0.0750  0.4500  0.5450   0.615   0.8150\n",
       "diameter        0.407881  0.099240  0.0550  0.3500  0.4250   0.480   0.6500\n",
       "height          0.139516  0.041827  0.0000  0.1150  0.1400   0.165   1.1300\n",
       "whole weight    0.828742  0.490389  0.0020  0.4415  0.7995   1.153   2.8255\n",
       "shucked weight  0.359367  0.221963  0.0010  0.1860  0.3360   0.502   1.4880\n",
       "viscera weight  0.180594  0.109614  0.0005  0.0935  0.1710   0.253   0.7600\n",
       "shell weight    0.238831  0.139203  0.0015  0.1300  0.2340   0.329   1.0050\n",
       "rings           9.933684  3.224169  1.0000  8.0000  9.0000  11.000  29.0000"
      ],
      "text/html": [
       "<div>\n",
       "<style scoped>\n",
       "    .dataframe tbody tr th:only-of-type {\n",
       "        vertical-align: middle;\n",
       "    }\n",
       "\n",
       "    .dataframe tbody tr th {\n",
       "        vertical-align: top;\n",
       "    }\n",
       "\n",
       "    .dataframe thead th {\n",
       "        text-align: right;\n",
       "    }\n",
       "</style>\n",
       "<table border=\"1\" class=\"dataframe\">\n",
       "  <thead>\n",
       "    <tr style=\"text-align: right;\">\n",
       "      <th></th>\n",
       "      <th>mean</th>\n",
       "      <th>std</th>\n",
       "      <th>min</th>\n",
       "      <th>25%</th>\n",
       "      <th>50%</th>\n",
       "      <th>75%</th>\n",
       "      <th>max</th>\n",
       "    </tr>\n",
       "  </thead>\n",
       "  <tbody>\n",
       "    <tr>\n",
       "      <th>length</th>\n",
       "      <td>0.523992</td>\n",
       "      <td>0.120093</td>\n",
       "      <td>0.0750</td>\n",
       "      <td>0.4500</td>\n",
       "      <td>0.5450</td>\n",
       "      <td>0.615</td>\n",
       "      <td>0.8150</td>\n",
       "    </tr>\n",
       "    <tr>\n",
       "      <th>diameter</th>\n",
       "      <td>0.407881</td>\n",
       "      <td>0.099240</td>\n",
       "      <td>0.0550</td>\n",
       "      <td>0.3500</td>\n",
       "      <td>0.4250</td>\n",
       "      <td>0.480</td>\n",
       "      <td>0.6500</td>\n",
       "    </tr>\n",
       "    <tr>\n",
       "      <th>height</th>\n",
       "      <td>0.139516</td>\n",
       "      <td>0.041827</td>\n",
       "      <td>0.0000</td>\n",
       "      <td>0.1150</td>\n",
       "      <td>0.1400</td>\n",
       "      <td>0.165</td>\n",
       "      <td>1.1300</td>\n",
       "    </tr>\n",
       "    <tr>\n",
       "      <th>whole weight</th>\n",
       "      <td>0.828742</td>\n",
       "      <td>0.490389</td>\n",
       "      <td>0.0020</td>\n",
       "      <td>0.4415</td>\n",
       "      <td>0.7995</td>\n",
       "      <td>1.153</td>\n",
       "      <td>2.8255</td>\n",
       "    </tr>\n",
       "    <tr>\n",
       "      <th>shucked weight</th>\n",
       "      <td>0.359367</td>\n",
       "      <td>0.221963</td>\n",
       "      <td>0.0010</td>\n",
       "      <td>0.1860</td>\n",
       "      <td>0.3360</td>\n",
       "      <td>0.502</td>\n",
       "      <td>1.4880</td>\n",
       "    </tr>\n",
       "    <tr>\n",
       "      <th>viscera weight</th>\n",
       "      <td>0.180594</td>\n",
       "      <td>0.109614</td>\n",
       "      <td>0.0005</td>\n",
       "      <td>0.0935</td>\n",
       "      <td>0.1710</td>\n",
       "      <td>0.253</td>\n",
       "      <td>0.7600</td>\n",
       "    </tr>\n",
       "    <tr>\n",
       "      <th>shell weight</th>\n",
       "      <td>0.238831</td>\n",
       "      <td>0.139203</td>\n",
       "      <td>0.0015</td>\n",
       "      <td>0.1300</td>\n",
       "      <td>0.2340</td>\n",
       "      <td>0.329</td>\n",
       "      <td>1.0050</td>\n",
       "    </tr>\n",
       "    <tr>\n",
       "      <th>rings</th>\n",
       "      <td>9.933684</td>\n",
       "      <td>3.224169</td>\n",
       "      <td>1.0000</td>\n",
       "      <td>8.0000</td>\n",
       "      <td>9.0000</td>\n",
       "      <td>11.000</td>\n",
       "      <td>29.0000</td>\n",
       "    </tr>\n",
       "  </tbody>\n",
       "</table>\n",
       "</div>"
      ]
     },
     "execution_count": 42,
     "metadata": {},
     "output_type": "execute_result"
    }
   ],
   "execution_count": 42
  },
  {
   "metadata": {},
   "cell_type": "markdown",
   "source": "3. Using a package chosen among Matplotlib, Pandas, or Seaborn, create a bar chart of the counts of occurrences of each category for the qualitative variable in the dataset.",
   "id": "fe5b3583f231eec7"
  },
  {
   "metadata": {
    "ExecuteTime": {
     "end_time": "2025-10-22T09:33:03.250237Z",
     "start_time": "2025-10-22T09:33:03.077386Z"
    }
   },
   "cell_type": "code",
   "source": "sns.countplot(data, x='sex');",
   "id": "5119f64643a28707",
   "outputs": [
    {
     "data": {
      "text/plain": [
       "<Figure size 640x480 with 1 Axes>"
      ],
      "image/png": "[encoded data removed]"
     },
     "metadata": {},
     "output_type": "display_data",
     "jetTransient": {
      "display_id": null
     }
    }
   ],
   "execution_count": 43
  },
  {
   "metadata": {},
   "cell_type": "markdown",
   "source": "4. Using a package chosen among Matplotlib, Pandas, or Seaborn, create a histogram of each quantitative variable in the dataset. All histograms should be placed in a single figure spanning 4 rows and 2 columns.",
   "id": "4a98369c9284e3fb"
  },
  {
   "metadata": {
    "ExecuteTime": {
     "end_time": "2025-10-22T09:51:22.725785Z",
     "start_time": "2025-10-22T09:51:22.719763Z"
    }
   },
   "cell_type": "code",
   "source": "data.plot",
   "id": "7a9051bdb905861f",
   "outputs": [
    {
     "data": {
      "text/plain": [
       "<pandas.plotting._core.PlotAccessor object at 0x0000018979FCFA10>"
      ]
     },
     "execution_count": 48,
     "metadata": {},
     "output_type": "execute_result"
    }
   ],
   "execution_count": 48
  }
 ],
 "metadata": {
  "kernelspec": {
   "display_name": "Python 3",
   "language": "python",
   "name": "python3"
  },
  "language_info": {
   "codemirror_mode": {
    "name": "ipython",
    "version": 2
   },
   "file_extension": ".py",
   "mimetype": "text/x-python",
   "name": "python",
   "nbconvert_exporter": "python",
   "pygments_lexer": "ipython2",
   "version": "2.7.6"
  }
 },
 "nbformat": 4,
 "nbformat_minor": 5
}
